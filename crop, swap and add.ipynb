{
 "cells": [
  {
   "cell_type": "code",
   "execution_count": 2,
   "metadata": {},
   "outputs": [],
   "source": [
    "import cv2"
   ]
  },
  {
   "cell_type": "code",
   "execution_count": 3,
   "metadata": {},
   "outputs": [],
   "source": [
    "Elon_Musk=cv2.imread('Elon Musk.jpg')\n",
    "cv2.imshow('Elon Musk',Elon_Musk)\n",
    "cv2.waitKey()\n",
    "cv2.destroyAllWindows()"
   ]
  },
  {
   "cell_type": "code",
   "execution_count": 4,
   "metadata": {},
   "outputs": [],
   "source": [
    "Jeff_Bezos=cv2.imread('Jeff Bezos.jpg')\n",
    "cv2.imshow('Jeff Bezos',Jeff_Bezos)\n",
    "cv2.waitKey()\n",
    "cv2.destroyAllWindows()"
   ]
  },
  {
   "cell_type": "code",
   "execution_count": 5,
   "metadata": {},
   "outputs": [],
   "source": [
    "#Crop and Swap\n",
    "Elon_Musk[20:140,30:140]=Jeff_Bezos[20:140,50:160]\n",
    "cv2.imshow('swap',Elon_Musk)\n",
    "cv2.waitKey()\n",
    "cv2.destroyAllWindows()"
   ]
  },
  {
   "cell_type": "code",
   "execution_count": 6,
   "metadata": {},
   "outputs": [],
   "source": [
    "#Crop and Swap\n",
    "Elon_Musk=cv2.imread('Elon Musk.jpg')\n",
    "Jeff_Bezos=cv2.imread('Jeff Bezos.jpg')\n",
    "Jeff_Bezos[20:140,50:160]=Elon_Musk[20:140,30:140]\n",
    "cv2.imshow('swap',Jeff_Bezos)\n",
    "cv2.waitKey()\n",
    "cv2.destroyAllWindows()"
   ]
  },
  {
   "cell_type": "code",
   "execution_count": 7,
   "metadata": {},
   "outputs": [],
   "source": [
    "cat=cv2.imread('cat.jpg')\n",
    "cv2.imshow('cat',cat)\n",
    "cv2.waitKey()\n",
    "cv2.destroyAllWindows()"
   ]
  },
  {
   "cell_type": "code",
   "execution_count": 8,
   "metadata": {},
   "outputs": [],
   "source": [
    "dog=cv2.imread('dog.jpg')\n",
    "cv2.imshow('dog',dog)\n",
    "cv2.waitKey()\n",
    "cv2.destroyAllWindows()"
   ]
  },
  {
   "cell_type": "code",
   "execution_count": 9,
   "metadata": {},
   "outputs": [],
   "source": [
    "#Collage\n",
    "import numpy \n",
    "aphoto=numpy.hstack((cat,dog))\n",
    "cv2.imshow('myphoto',aphoto)\n",
    "cv2.waitKey()\n",
    "cv2.destroyAllWindows()"
   ]
  },
  {
   "cell_type": "code",
   "execution_count": null,
   "metadata": {},
   "outputs": [],
   "source": []
  }
 ],
 "metadata": {
  "kernelspec": {
   "display_name": "Python 3",
   "language": "python",
   "name": "python3"
  },
  "language_info": {
   "codemirror_mode": {
    "name": "ipython",
    "version": 3
   },
   "file_extension": ".py",
   "mimetype": "text/x-python",
   "name": "python",
   "nbconvert_exporter": "python",
   "pygments_lexer": "ipython3",
   "version": "3.8.3"
  }
 },
 "nbformat": 4,
 "nbformat_minor": 4
}
